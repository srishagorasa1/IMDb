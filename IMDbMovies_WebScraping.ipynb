{
  "nbformat": 4,
  "nbformat_minor": 0,
  "metadata": {
    "colab": {
      "name": "IMDbMovies-WebScraping.ipynb",
      "provenance": [],
      "collapsed_sections": [],
      "authorship_tag": "ABX9TyOcVkqNSBsD4ahY0cpjh3wn",
      "include_colab_link": true
    },
    "kernelspec": {
      "name": "python3",
      "display_name": "Python 3"
    },
    "language_info": {
      "name": "python"
    }
  },
  "cells": [
    {
      "cell_type": "markdown",
      "metadata": {
        "id": "view-in-github",
        "colab_type": "text"
      },
      "source": [
        "<a href=\"https://colab.research.google.com/github/srishagorasa1/IMDb/blob/main/IMDbMovies_WebScraping.ipynb\" target=\"_parent\"><img src=\"https://colab.research.google.com/assets/colab-badge.svg\" alt=\"Open In Colab\"/></a>"
      ]
    },
    {
      "cell_type": "markdown",
      "metadata": {
        "id": "H49RPjF80pJ6"
      },
      "source": [
        "**Web Scraping - IMDB Site:**\n",
        "\n",
        "step by step web scraping from IMBd's top 1000 movies using Python.\n",
        "\n",
        "Below is the information gathered from each movie:\n",
        "\n",
        "*   Title\n",
        "*   Release year\n",
        "*   Rating\n",
        "*   Metascore\n",
        "*   Gross earnings\n",
        "*   Votes\n",
        "*   Movie length\n",
        "\n",
        "\n",
        "Link of the IMDB website: https://www.imdb.com/search/title/?groups=top_1000&ref_=adv_prv\n",
        "\n",
        "References:\n",
        "\n",
        "https://medium.com/@angelicacodes\n",
        "\n",
        "https://medium.com/better-programming/the-only-step-by-step-guide-youll-need-to-build-a-web-scraper-with-python-e79066bd895a \n",
        "\n",
        "https://medium.com/better-programming/how-to-scrape-multiple-pages-of-a-website-using-a-python-web-scraper-4e2c641cff8"
      ]
    },
    {
      "cell_type": "markdown",
      "metadata": {
        "id": "avfw3aaWQeW_"
      },
      "source": [
        "**Loading the libraries**"
      ]
    },
    {
      "cell_type": "code",
      "metadata": {
        "id": "LaPvAvptQZ5I"
      },
      "source": [
        "import pandas as pd\n",
        "import numpy as np\n",
        "\n",
        "import requests\n",
        "from requests import get\n",
        "from bs4 import BeautifulSoup\n",
        "\n",
        "from time import sleep\n",
        "from random import randint"
      ],
      "execution_count": 16,
      "outputs": []
    },
    {
      "cell_type": "markdown",
      "metadata": {
        "id": "zFMbDfCjQpL0"
      },
      "source": [
        "**Scraping from the web**"
      ]
    },
    {
      "cell_type": "code",
      "metadata": {
        "id": "8TswsMYnQbYl"
      },
      "source": [
        "# Creating the lists we want to write into\n",
        "titles = []\n",
        "years = []\n",
        "time = []\n",
        "imdb_ratings = []\n",
        "metascores = []\n",
        "votes = []\n",
        "us_gross = []"
      ],
      "execution_count": 17,
      "outputs": []
    },
    {
      "cell_type": "code",
      "metadata": {
        "id": "piazvmgVQxOS"
      },
      "source": [
        "# Getting English translated titles from the movies\n",
        "headers = {'Accept-Language': 'en-US, en;q=0.5'}"
      ],
      "execution_count": 18,
      "outputs": []
    },
    {
      "cell_type": "markdown",
      "metadata": {
        "id": "5jnjkBQbQ1SH"
      },
      "source": [
        "There are 1000 movies and each page has 50 movies listed.\n",
        "\n",
        "So the first 50 movies' url: https://www.imdb.com/search/title/?groups=top_1000&ref_=adv_prv\n",
        "\n",
        "Movies from 51 to 100: https://www.imdb.com/search/title/?groups=top_1000&start=51&ref_=adv_nxt\n",
        "\n",
        "Movies from 101 to 150: https://www.imdb.com/search/title/?groups=top_1000&start=101&ref_=adv_nxt"
      ]
    },
    {
      "cell_type": "code",
      "metadata": {
        "colab": {
          "base_uri": "https://localhost:8080/"
        },
        "id": "PLhcC6NxQ0nT",
        "outputId": "0cb86df8-9410-4613-bd99-f27c475ed83d"
      },
      "source": [
        "pages = np.arange(1, 1001, 50)\n",
        "pages"
      ],
      "execution_count": 20,
      "outputs": [
        {
          "output_type": "execute_result",
          "data": {
            "text/plain": [
              "array([  1,  51, 101, 151, 201, 251, 301, 351, 401, 451, 501, 551, 601,\n",
              "       651, 701, 751, 801, 851, 901, 951])"
            ]
          },
          "metadata": {
            "tags": []
          },
          "execution_count": 20
        }
      ]
    },
    {
      "cell_type": "code",
      "metadata": {
        "id": "aepLaaCpRNhi"
      },
      "source": [
        "# Storing each of the urls of 50 movies \n",
        "for page in pages:\n",
        "    # Getting the contents from the each url\n",
        "    page = requests.get('https://www.imdb.com/search/title/?groups=top_1000&start=' + str(page) + '&ref_=adv_nxt', headers=headers)\n",
        "    soup = BeautifulSoup(page.text, 'html.parser')\n",
        "    \n",
        "    # Aiming the part of the html we want to get the information from\n",
        "    movie_div = soup.find_all('div', class_='lister-item mode-advanced')\n",
        "    \n",
        "    # Controling the loop’s rate by pausing the execution of the loop for a specified amount of time\n",
        "    # Waiting time between requests for a number between 2-10 seconds\n",
        "    sleep(randint(2,10))\n",
        "    \n",
        "    for container in movie_div:\n",
        "        # Scraping the movie's name\n",
        "        name = container.h3.a.text\n",
        "        titles.append(name)\n",
        "        \n",
        "        # Scraping the movie's year\n",
        "        year = container.h3.find('span', class_='lister-item-year').text\n",
        "        years.append(year)\n",
        "        \n",
        "        # Scraping the movie's length\n",
        "        runtime = container.find('span', class_='runtime').text if container.p.find('span', class_='runtime') else '-'\n",
        "        time.append(runtime)\n",
        "        \n",
        "        # Scraping the rating\n",
        "        imdb = float(container.strong.text)\n",
        "        imdb_ratings.append(imdb)\n",
        "        \n",
        "        # Scraping the metascore\n",
        "        m_score = container.find('span', class_='metascore').text if container.find('span', class_='metascore') else '-'\n",
        "        metascores.append(m_score)\n",
        "        \n",
        "        # Scraping votes and gross earnings\n",
        "        nv = container.find_all('span', attrs={'name':'nv'})\n",
        "        vote = nv[0].text\n",
        "        votes.append(vote)\n",
        "        grosses = nv[1].text if len(nv) > 1 else '-'\n",
        "        us_gross.append(grosses)"
      ],
      "execution_count": 21,
      "outputs": []
    },
    {
      "cell_type": "markdown",
      "metadata": {
        "id": "4G_b-eLQR_ge"
      },
      "source": [
        "**Creating the dataset**"
      ]
    },
    {
      "cell_type": "code",
      "metadata": {
        "colab": {
          "base_uri": "https://localhost:8080/",
          "height": 204
        },
        "id": "1C-iC0qUSCHQ",
        "outputId": "2536cfad-4b33-4c58-e72d-a9d89a7a6858"
      },
      "source": [
        "movies = pd.DataFrame({'movie':titles,\n",
        "                       'year':years,\n",
        "                       'time_minute':time,\n",
        "                       'imdb_rating':imdb_ratings,\n",
        "                       'metascore':metascores,\n",
        "                       'vote':votes,\n",
        "                       'gross_earning':us_gross})\n",
        "\n",
        "movies.head()"
      ],
      "execution_count": 24,
      "outputs": [
        {
          "output_type": "execute_result",
          "data": {
            "text/html": [
              "<div>\n",
              "<style scoped>\n",
              "    .dataframe tbody tr th:only-of-type {\n",
              "        vertical-align: middle;\n",
              "    }\n",
              "\n",
              "    .dataframe tbody tr th {\n",
              "        vertical-align: top;\n",
              "    }\n",
              "\n",
              "    .dataframe thead th {\n",
              "        text-align: right;\n",
              "    }\n",
              "</style>\n",
              "<table border=\"1\" class=\"dataframe\">\n",
              "  <thead>\n",
              "    <tr style=\"text-align: right;\">\n",
              "      <th></th>\n",
              "      <th>movie</th>\n",
              "      <th>year</th>\n",
              "      <th>time_minute</th>\n",
              "      <th>imdb_rating</th>\n",
              "      <th>metascore</th>\n",
              "      <th>vote</th>\n",
              "      <th>gross_earning</th>\n",
              "    </tr>\n",
              "  </thead>\n",
              "  <tbody>\n",
              "    <tr>\n",
              "      <th>0</th>\n",
              "      <td>The Mitchells vs the Machines</td>\n",
              "      <td>(2021)</td>\n",
              "      <td>113 min</td>\n",
              "      <td>7.9</td>\n",
              "      <td>81</td>\n",
              "      <td>30,785</td>\n",
              "      <td>-</td>\n",
              "    </tr>\n",
              "    <tr>\n",
              "      <th>1</th>\n",
              "      <td>The Father</td>\n",
              "      <td>(I) (2020)</td>\n",
              "      <td>97 min</td>\n",
              "      <td>8.3</td>\n",
              "      <td>88</td>\n",
              "      <td>54,434</td>\n",
              "      <td>-</td>\n",
              "    </tr>\n",
              "    <tr>\n",
              "      <th>2</th>\n",
              "      <td>Zack Snyder's Justice League</td>\n",
              "      <td>(2021)</td>\n",
              "      <td>242 min</td>\n",
              "      <td>8.2</td>\n",
              "      <td>54</td>\n",
              "      <td>282,156</td>\n",
              "      <td>-</td>\n",
              "    </tr>\n",
              "    <tr>\n",
              "      <th>3</th>\n",
              "      <td>Sound of Metal</td>\n",
              "      <td>(2019)</td>\n",
              "      <td>120 min</td>\n",
              "      <td>7.8</td>\n",
              "      <td>82</td>\n",
              "      <td>81,947</td>\n",
              "      <td>-</td>\n",
              "    </tr>\n",
              "    <tr>\n",
              "      <th>4</th>\n",
              "      <td>Another Round</td>\n",
              "      <td>(2020)</td>\n",
              "      <td>117 min</td>\n",
              "      <td>7.8</td>\n",
              "      <td>80</td>\n",
              "      <td>73,068</td>\n",
              "      <td>-</td>\n",
              "    </tr>\n",
              "  </tbody>\n",
              "</table>\n",
              "</div>"
            ],
            "text/plain": [
              "                           movie        year  ...     vote  gross_earning\n",
              "0  The Mitchells vs the Machines      (2021)  ...   30,785              -\n",
              "1                     The Father  (I) (2020)  ...   54,434              -\n",
              "2   Zack Snyder's Justice League      (2021)  ...  282,156              -\n",
              "3                 Sound of Metal      (2019)  ...   81,947              -\n",
              "4                  Another Round      (2020)  ...   73,068              -\n",
              "\n",
              "[5 rows x 7 columns]"
            ]
          },
          "metadata": {
            "tags": []
          },
          "execution_count": 24
        }
      ]
    },
    {
      "cell_type": "code",
      "metadata": {
        "colab": {
          "base_uri": "https://localhost:8080/"
        },
        "id": "JO-I9a_7SR8H",
        "outputId": "311d9cae-705a-4b52-9d5e-b7c5739faa09"
      },
      "source": [
        "movies.dtypes"
      ],
      "execution_count": 25,
      "outputs": [
        {
          "output_type": "execute_result",
          "data": {
            "text/plain": [
              "movie             object\n",
              "year              object\n",
              "time_minute       object\n",
              "imdb_rating      float64\n",
              "metascore         object\n",
              "vote              object\n",
              "gross_earning     object\n",
              "dtype: object"
            ]
          },
          "metadata": {
            "tags": []
          },
          "execution_count": 25
        }
      ]
    },
    {
      "cell_type": "markdown",
      "metadata": {
        "id": "b2rELcLCSXVj"
      },
      "source": [
        "**Cleaning the dataset**"
      ]
    },
    {
      "cell_type": "code",
      "metadata": {
        "colab": {
          "base_uri": "https://localhost:8080/",
          "height": 142
        },
        "id": "r_gr1bm3SbJo",
        "outputId": "5b2463d1-3383-4d30-a71f-94d687052b66"
      },
      "source": [
        "# Cleaning 'year' column\n",
        "movies['year'] = movies['year'].str.extract('(\\d+)').astype(int)\n",
        "movies.head(3)"
      ],
      "execution_count": 26,
      "outputs": [
        {
          "output_type": "execute_result",
          "data": {
            "text/html": [
              "<div>\n",
              "<style scoped>\n",
              "    .dataframe tbody tr th:only-of-type {\n",
              "        vertical-align: middle;\n",
              "    }\n",
              "\n",
              "    .dataframe tbody tr th {\n",
              "        vertical-align: top;\n",
              "    }\n",
              "\n",
              "    .dataframe thead th {\n",
              "        text-align: right;\n",
              "    }\n",
              "</style>\n",
              "<table border=\"1\" class=\"dataframe\">\n",
              "  <thead>\n",
              "    <tr style=\"text-align: right;\">\n",
              "      <th></th>\n",
              "      <th>movie</th>\n",
              "      <th>year</th>\n",
              "      <th>time_minute</th>\n",
              "      <th>imdb_rating</th>\n",
              "      <th>metascore</th>\n",
              "      <th>vote</th>\n",
              "      <th>gross_earning</th>\n",
              "    </tr>\n",
              "  </thead>\n",
              "  <tbody>\n",
              "    <tr>\n",
              "      <th>0</th>\n",
              "      <td>The Mitchells vs the Machines</td>\n",
              "      <td>2021</td>\n",
              "      <td>113 min</td>\n",
              "      <td>7.9</td>\n",
              "      <td>81</td>\n",
              "      <td>30,785</td>\n",
              "      <td>-</td>\n",
              "    </tr>\n",
              "    <tr>\n",
              "      <th>1</th>\n",
              "      <td>The Father</td>\n",
              "      <td>2020</td>\n",
              "      <td>97 min</td>\n",
              "      <td>8.3</td>\n",
              "      <td>88</td>\n",
              "      <td>54,434</td>\n",
              "      <td>-</td>\n",
              "    </tr>\n",
              "    <tr>\n",
              "      <th>2</th>\n",
              "      <td>Zack Snyder's Justice League</td>\n",
              "      <td>2021</td>\n",
              "      <td>242 min</td>\n",
              "      <td>8.2</td>\n",
              "      <td>54</td>\n",
              "      <td>282,156</td>\n",
              "      <td>-</td>\n",
              "    </tr>\n",
              "  </tbody>\n",
              "</table>\n",
              "</div>"
            ],
            "text/plain": [
              "                           movie  year  ...     vote  gross_earning\n",
              "0  The Mitchells vs the Machines  2021  ...   30,785              -\n",
              "1                     The Father  2020  ...   54,434              -\n",
              "2   Zack Snyder's Justice League  2021  ...  282,156              -\n",
              "\n",
              "[3 rows x 7 columns]"
            ]
          },
          "metadata": {
            "tags": []
          },
          "execution_count": 26
        }
      ]
    },
    {
      "cell_type": "code",
      "metadata": {
        "colab": {
          "base_uri": "https://localhost:8080/",
          "height": 142
        },
        "id": "yCq0bpqASizt",
        "outputId": "d784cb9b-d219-457a-d12c-1ae318dea7ac"
      },
      "source": [
        "# Cleaning 'time_minute' column\n",
        "movies['time_minute'] = movies['time_minute'].str.extract('(\\d+)').astype(int)\n",
        "movies.head(3)"
      ],
      "execution_count": 27,
      "outputs": [
        {
          "output_type": "execute_result",
          "data": {
            "text/html": [
              "<div>\n",
              "<style scoped>\n",
              "    .dataframe tbody tr th:only-of-type {\n",
              "        vertical-align: middle;\n",
              "    }\n",
              "\n",
              "    .dataframe tbody tr th {\n",
              "        vertical-align: top;\n",
              "    }\n",
              "\n",
              "    .dataframe thead th {\n",
              "        text-align: right;\n",
              "    }\n",
              "</style>\n",
              "<table border=\"1\" class=\"dataframe\">\n",
              "  <thead>\n",
              "    <tr style=\"text-align: right;\">\n",
              "      <th></th>\n",
              "      <th>movie</th>\n",
              "      <th>year</th>\n",
              "      <th>time_minute</th>\n",
              "      <th>imdb_rating</th>\n",
              "      <th>metascore</th>\n",
              "      <th>vote</th>\n",
              "      <th>gross_earning</th>\n",
              "    </tr>\n",
              "  </thead>\n",
              "  <tbody>\n",
              "    <tr>\n",
              "      <th>0</th>\n",
              "      <td>The Mitchells vs the Machines</td>\n",
              "      <td>2021</td>\n",
              "      <td>113</td>\n",
              "      <td>7.9</td>\n",
              "      <td>81</td>\n",
              "      <td>30,785</td>\n",
              "      <td>-</td>\n",
              "    </tr>\n",
              "    <tr>\n",
              "      <th>1</th>\n",
              "      <td>The Father</td>\n",
              "      <td>2020</td>\n",
              "      <td>97</td>\n",
              "      <td>8.3</td>\n",
              "      <td>88</td>\n",
              "      <td>54,434</td>\n",
              "      <td>-</td>\n",
              "    </tr>\n",
              "    <tr>\n",
              "      <th>2</th>\n",
              "      <td>Zack Snyder's Justice League</td>\n",
              "      <td>2021</td>\n",
              "      <td>242</td>\n",
              "      <td>8.2</td>\n",
              "      <td>54</td>\n",
              "      <td>282,156</td>\n",
              "      <td>-</td>\n",
              "    </tr>\n",
              "  </tbody>\n",
              "</table>\n",
              "</div>"
            ],
            "text/plain": [
              "                           movie  year  ...     vote  gross_earning\n",
              "0  The Mitchells vs the Machines  2021  ...   30,785              -\n",
              "1                     The Father  2020  ...   54,434              -\n",
              "2   Zack Snyder's Justice League  2021  ...  282,156              -\n",
              "\n",
              "[3 rows x 7 columns]"
            ]
          },
          "metadata": {
            "tags": []
          },
          "execution_count": 27
        }
      ]
    },
    {
      "cell_type": "code",
      "metadata": {
        "id": "UvCIsN00SpfD"
      },
      "source": [
        "# Cleaning 'metascore' column\n",
        "movies['metascore'] = movies['metascore'].str.extract('(\\d+)')\n",
        "# convert it to float and if there are dashes turn it into NaN\n",
        "movies['metascore'] = pd.to_numeric(movies['metascore'], errors='coerce')"
      ],
      "execution_count": 28,
      "outputs": []
    },
    {
      "cell_type": "code",
      "metadata": {
        "colab": {
          "base_uri": "https://localhost:8080/",
          "height": 142
        },
        "id": "YH-DtX-VSqzt",
        "outputId": "a2320332-cd40-401b-dbb7-f1d69cbd2c41"
      },
      "source": [
        "# Cleaning 'vote' column\n",
        "movies['vote'] = movies['vote'].str.replace(',', '').astype(int)\n",
        "movies.head(3)"
      ],
      "execution_count": 29,
      "outputs": [
        {
          "output_type": "execute_result",
          "data": {
            "text/html": [
              "<div>\n",
              "<style scoped>\n",
              "    .dataframe tbody tr th:only-of-type {\n",
              "        vertical-align: middle;\n",
              "    }\n",
              "\n",
              "    .dataframe tbody tr th {\n",
              "        vertical-align: top;\n",
              "    }\n",
              "\n",
              "    .dataframe thead th {\n",
              "        text-align: right;\n",
              "    }\n",
              "</style>\n",
              "<table border=\"1\" class=\"dataframe\">\n",
              "  <thead>\n",
              "    <tr style=\"text-align: right;\">\n",
              "      <th></th>\n",
              "      <th>movie</th>\n",
              "      <th>year</th>\n",
              "      <th>time_minute</th>\n",
              "      <th>imdb_rating</th>\n",
              "      <th>metascore</th>\n",
              "      <th>vote</th>\n",
              "      <th>gross_earning</th>\n",
              "    </tr>\n",
              "  </thead>\n",
              "  <tbody>\n",
              "    <tr>\n",
              "      <th>0</th>\n",
              "      <td>The Mitchells vs the Machines</td>\n",
              "      <td>2021</td>\n",
              "      <td>113</td>\n",
              "      <td>7.9</td>\n",
              "      <td>81.0</td>\n",
              "      <td>30785</td>\n",
              "      <td>-</td>\n",
              "    </tr>\n",
              "    <tr>\n",
              "      <th>1</th>\n",
              "      <td>The Father</td>\n",
              "      <td>2020</td>\n",
              "      <td>97</td>\n",
              "      <td>8.3</td>\n",
              "      <td>88.0</td>\n",
              "      <td>54434</td>\n",
              "      <td>-</td>\n",
              "    </tr>\n",
              "    <tr>\n",
              "      <th>2</th>\n",
              "      <td>Zack Snyder's Justice League</td>\n",
              "      <td>2021</td>\n",
              "      <td>242</td>\n",
              "      <td>8.2</td>\n",
              "      <td>54.0</td>\n",
              "      <td>282156</td>\n",
              "      <td>-</td>\n",
              "    </tr>\n",
              "  </tbody>\n",
              "</table>\n",
              "</div>"
            ],
            "text/plain": [
              "                           movie  year  ...    vote  gross_earning\n",
              "0  The Mitchells vs the Machines  2021  ...   30785              -\n",
              "1                     The Father  2020  ...   54434              -\n",
              "2   Zack Snyder's Justice League  2021  ...  282156              -\n",
              "\n",
              "[3 rows x 7 columns]"
            ]
          },
          "metadata": {
            "tags": []
          },
          "execution_count": 29
        }
      ]
    },
    {
      "cell_type": "code",
      "metadata": {
        "colab": {
          "base_uri": "https://localhost:8080/",
          "height": 142
        },
        "id": "dhfF5t5zSvt1",
        "outputId": "601cbf61-23c9-447c-e57a-151e317151f1"
      },
      "source": [
        "# Cleaning 'gross_earning' column\n",
        "# left strip $ and right strip M \n",
        "movies['gross_earning'] = movies['gross_earning'].map(lambda x: x.lstrip('$').rstrip('M'))\n",
        "# convert it to float and if there are dashes turn it into NaN\n",
        "movies['gross_earning'] = pd.to_numeric(movies['gross_earning'], errors='coerce')\n",
        "movies.head(3)"
      ],
      "execution_count": 30,
      "outputs": [
        {
          "output_type": "execute_result",
          "data": {
            "text/html": [
              "<div>\n",
              "<style scoped>\n",
              "    .dataframe tbody tr th:only-of-type {\n",
              "        vertical-align: middle;\n",
              "    }\n",
              "\n",
              "    .dataframe tbody tr th {\n",
              "        vertical-align: top;\n",
              "    }\n",
              "\n",
              "    .dataframe thead th {\n",
              "        text-align: right;\n",
              "    }\n",
              "</style>\n",
              "<table border=\"1\" class=\"dataframe\">\n",
              "  <thead>\n",
              "    <tr style=\"text-align: right;\">\n",
              "      <th></th>\n",
              "      <th>movie</th>\n",
              "      <th>year</th>\n",
              "      <th>time_minute</th>\n",
              "      <th>imdb_rating</th>\n",
              "      <th>metascore</th>\n",
              "      <th>vote</th>\n",
              "      <th>gross_earning</th>\n",
              "    </tr>\n",
              "  </thead>\n",
              "  <tbody>\n",
              "    <tr>\n",
              "      <th>0</th>\n",
              "      <td>The Mitchells vs the Machines</td>\n",
              "      <td>2021</td>\n",
              "      <td>113</td>\n",
              "      <td>7.9</td>\n",
              "      <td>81.0</td>\n",
              "      <td>30785</td>\n",
              "      <td>NaN</td>\n",
              "    </tr>\n",
              "    <tr>\n",
              "      <th>1</th>\n",
              "      <td>The Father</td>\n",
              "      <td>2020</td>\n",
              "      <td>97</td>\n",
              "      <td>8.3</td>\n",
              "      <td>88.0</td>\n",
              "      <td>54434</td>\n",
              "      <td>NaN</td>\n",
              "    </tr>\n",
              "    <tr>\n",
              "      <th>2</th>\n",
              "      <td>Zack Snyder's Justice League</td>\n",
              "      <td>2021</td>\n",
              "      <td>242</td>\n",
              "      <td>8.2</td>\n",
              "      <td>54.0</td>\n",
              "      <td>282156</td>\n",
              "      <td>NaN</td>\n",
              "    </tr>\n",
              "  </tbody>\n",
              "</table>\n",
              "</div>"
            ],
            "text/plain": [
              "                           movie  year  ...    vote  gross_earning\n",
              "0  The Mitchells vs the Machines  2021  ...   30785            NaN\n",
              "1                     The Father  2020  ...   54434            NaN\n",
              "2   Zack Snyder's Justice League  2021  ...  282156            NaN\n",
              "\n",
              "[3 rows x 7 columns]"
            ]
          },
          "metadata": {
            "tags": []
          },
          "execution_count": 30
        }
      ]
    },
    {
      "cell_type": "code",
      "metadata": {
        "colab": {
          "base_uri": "https://localhost:8080/"
        },
        "id": "u-LLWUOmS7HQ",
        "outputId": "6e6d9536-8230-41ec-8ec0-5385bc8961e1"
      },
      "source": [
        "movies.dtypes"
      ],
      "execution_count": 31,
      "outputs": [
        {
          "output_type": "execute_result",
          "data": {
            "text/plain": [
              "movie             object\n",
              "year               int64\n",
              "time_minute        int64\n",
              "imdb_rating      float64\n",
              "metascore        float64\n",
              "vote               int64\n",
              "gross_earning    float64\n",
              "dtype: object"
            ]
          },
          "metadata": {
            "tags": []
          },
          "execution_count": 31
        }
      ]
    },
    {
      "cell_type": "markdown",
      "metadata": {
        "id": "qcfVRkZPTAtO"
      },
      "source": [
        "**Final Dataset**"
      ]
    },
    {
      "cell_type": "code",
      "metadata": {
        "colab": {
          "base_uri": "https://localhost:8080/",
          "height": 419
        },
        "id": "GmoN7w-uTC7O",
        "outputId": "131561b8-dcb5-48c3-d8f6-cb501c37eba9"
      },
      "source": [
        "movies"
      ],
      "execution_count": 32,
      "outputs": [
        {
          "output_type": "execute_result",
          "data": {
            "text/html": [
              "<div>\n",
              "<style scoped>\n",
              "    .dataframe tbody tr th:only-of-type {\n",
              "        vertical-align: middle;\n",
              "    }\n",
              "\n",
              "    .dataframe tbody tr th {\n",
              "        vertical-align: top;\n",
              "    }\n",
              "\n",
              "    .dataframe thead th {\n",
              "        text-align: right;\n",
              "    }\n",
              "</style>\n",
              "<table border=\"1\" class=\"dataframe\">\n",
              "  <thead>\n",
              "    <tr style=\"text-align: right;\">\n",
              "      <th></th>\n",
              "      <th>movie</th>\n",
              "      <th>year</th>\n",
              "      <th>time_minute</th>\n",
              "      <th>imdb_rating</th>\n",
              "      <th>metascore</th>\n",
              "      <th>vote</th>\n",
              "      <th>gross_earning</th>\n",
              "    </tr>\n",
              "  </thead>\n",
              "  <tbody>\n",
              "    <tr>\n",
              "      <th>0</th>\n",
              "      <td>The Mitchells vs the Machines</td>\n",
              "      <td>2021</td>\n",
              "      <td>113</td>\n",
              "      <td>7.9</td>\n",
              "      <td>81.0</td>\n",
              "      <td>30785</td>\n",
              "      <td>NaN</td>\n",
              "    </tr>\n",
              "    <tr>\n",
              "      <th>1</th>\n",
              "      <td>The Father</td>\n",
              "      <td>2020</td>\n",
              "      <td>97</td>\n",
              "      <td>8.3</td>\n",
              "      <td>88.0</td>\n",
              "      <td>54434</td>\n",
              "      <td>NaN</td>\n",
              "    </tr>\n",
              "    <tr>\n",
              "      <th>2</th>\n",
              "      <td>Zack Snyder's Justice League</td>\n",
              "      <td>2021</td>\n",
              "      <td>242</td>\n",
              "      <td>8.2</td>\n",
              "      <td>54.0</td>\n",
              "      <td>282156</td>\n",
              "      <td>NaN</td>\n",
              "    </tr>\n",
              "    <tr>\n",
              "      <th>3</th>\n",
              "      <td>Sound of Metal</td>\n",
              "      <td>2019</td>\n",
              "      <td>120</td>\n",
              "      <td>7.8</td>\n",
              "      <td>82.0</td>\n",
              "      <td>81947</td>\n",
              "      <td>NaN</td>\n",
              "    </tr>\n",
              "    <tr>\n",
              "      <th>4</th>\n",
              "      <td>Another Round</td>\n",
              "      <td>2020</td>\n",
              "      <td>117</td>\n",
              "      <td>7.8</td>\n",
              "      <td>80.0</td>\n",
              "      <td>73068</td>\n",
              "      <td>NaN</td>\n",
              "    </tr>\n",
              "    <tr>\n",
              "      <th>...</th>\n",
              "      <td>...</td>\n",
              "      <td>...</td>\n",
              "      <td>...</td>\n",
              "      <td>...</td>\n",
              "      <td>...</td>\n",
              "      <td>...</td>\n",
              "      <td>...</td>\n",
              "    </tr>\n",
              "    <tr>\n",
              "      <th>995</th>\n",
              "      <td>Raazi</td>\n",
              "      <td>2018</td>\n",
              "      <td>138</td>\n",
              "      <td>7.8</td>\n",
              "      <td>NaN</td>\n",
              "      <td>26057</td>\n",
              "      <td>NaN</td>\n",
              "    </tr>\n",
              "    <tr>\n",
              "      <th>996</th>\n",
              "      <td>A Night at the Opera</td>\n",
              "      <td>1935</td>\n",
              "      <td>96</td>\n",
              "      <td>7.9</td>\n",
              "      <td>NaN</td>\n",
              "      <td>30930</td>\n",
              "      <td>2.54</td>\n",
              "    </tr>\n",
              "    <tr>\n",
              "      <th>997</th>\n",
              "      <td>The Breath</td>\n",
              "      <td>2009</td>\n",
              "      <td>128</td>\n",
              "      <td>8.0</td>\n",
              "      <td>NaN</td>\n",
              "      <td>32233</td>\n",
              "      <td>NaN</td>\n",
              "    </tr>\n",
              "    <tr>\n",
              "      <th>998</th>\n",
              "      <td>English Vinglish</td>\n",
              "      <td>2012</td>\n",
              "      <td>134</td>\n",
              "      <td>7.8</td>\n",
              "      <td>NaN</td>\n",
              "      <td>34029</td>\n",
              "      <td>1.67</td>\n",
              "    </tr>\n",
              "    <tr>\n",
              "      <th>999</th>\n",
              "      <td>Lage Raho Munna Bhai</td>\n",
              "      <td>2006</td>\n",
              "      <td>144</td>\n",
              "      <td>8.0</td>\n",
              "      <td>NaN</td>\n",
              "      <td>43688</td>\n",
              "      <td>2.22</td>\n",
              "    </tr>\n",
              "  </tbody>\n",
              "</table>\n",
              "<p>1000 rows × 7 columns</p>\n",
              "</div>"
            ],
            "text/plain": [
              "                             movie  year  ...    vote  gross_earning\n",
              "0    The Mitchells vs the Machines  2021  ...   30785            NaN\n",
              "1                       The Father  2020  ...   54434            NaN\n",
              "2     Zack Snyder's Justice League  2021  ...  282156            NaN\n",
              "3                   Sound of Metal  2019  ...   81947            NaN\n",
              "4                    Another Round  2020  ...   73068            NaN\n",
              "..                             ...   ...  ...     ...            ...\n",
              "995                          Raazi  2018  ...   26057            NaN\n",
              "996           A Night at the Opera  1935  ...   30930           2.54\n",
              "997                     The Breath  2009  ...   32233            NaN\n",
              "998               English Vinglish  2012  ...   34029           1.67\n",
              "999           Lage Raho Munna Bhai  2006  ...   43688           2.22\n",
              "\n",
              "[1000 rows x 7 columns]"
            ]
          },
          "metadata": {
            "tags": []
          },
          "execution_count": 32
        }
      ]
    },
    {
      "cell_type": "markdown",
      "metadata": {
        "id": "T3f8-2A1TM2L"
      },
      "source": [
        "**Saving the dataset to a csv file**"
      ]
    },
    {
      "cell_type": "code",
      "metadata": {
        "id": "lwJn9vs0TQts"
      },
      "source": [
        "movies.to_csv('movies.csv')"
      ],
      "execution_count": 33,
      "outputs": []
    }
  ]
}